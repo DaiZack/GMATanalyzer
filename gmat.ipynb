{
  "nbformat": 4,
  "nbformat_minor": 0,
  "metadata": {
    "colab": {
      "name": "gmat.ipynb",
      "provenance": [],
      "collapsed_sections": [],
      "authorship_tag": "ABX9TyMFQxRYwQSYE/Q3cI51rxz2",
      "include_colab_link": true
    },
    "kernelspec": {
      "name": "python3",
      "display_name": "Python 3"
    }
  },
  "cells": [
    {
      "cell_type": "markdown",
      "metadata": {
        "id": "view-in-github",
        "colab_type": "text"
      },
      "source": [
        "<a href=\"https://colab.research.google.com/github/DaiZack/GMATanalyzer/blob/master/gmat.ipynb\" target=\"_parent\"><img src=\"https://colab.research.google.com/assets/colab-badge.svg\" alt=\"Open In Colab\"/></a>"
      ]
    },
    {
      "cell_type": "markdown",
      "metadata": {
        "id": "pgMSy-Lomg8-",
        "colab_type": "text"
      },
      "source": [
        "# GMAT SC analysis\n",
        "\n",
        "## step 1 load OG data"
      ]
    },
    {
      "cell_type": "code",
      "metadata": {
        "id": "qA_7MVE9nMwg",
        "colab_type": "code",
        "colab": {
          "base_uri": "https://localhost:8080/",
          "height": 286
        },
        "outputId": "cad671c5-341f-4361-d7fa-2eecc15a5949"
      },
      "source": [
        "# use wget to download from my github\n",
        "!wget https://github.com/DaiZack/GMATanalyzer/raw/master/OG2021.txt"
      ],
      "execution_count": 238,
      "outputs": [
        {
          "output_type": "stream",
          "text": [
            "--2020-07-31 16:03:19--  https://github.com/DaiZack/GMATanalyzer/raw/master/OG2021.txt\n",
            "Resolving github.com (github.com)... 140.82.113.3\n",
            "Connecting to github.com (github.com)|140.82.113.3|:443... connected.\n",
            "HTTP request sent, awaiting response... 302 Found\n",
            "Location: https://raw.githubusercontent.com/DaiZack/GMATanalyzer/master/OG2021.txt [following]\n",
            "--2020-07-31 16:03:20--  https://raw.githubusercontent.com/DaiZack/GMATanalyzer/master/OG2021.txt\n",
            "Resolving raw.githubusercontent.com (raw.githubusercontent.com)... 151.101.0.133, 151.101.64.133, 151.101.128.133, ...\n",
            "Connecting to raw.githubusercontent.com (raw.githubusercontent.com)|151.101.0.133|:443... connected.\n",
            "HTTP request sent, awaiting response... 200 OK\n",
            "Length: 130907 (128K) [text/plain]\n",
            "Saving to: ‘OG2021.txt’\n",
            "\n",
            "OG2021.txt          100%[===================>] 127.84K  --.-KB/s    in 0.04s   \n",
            "\n",
            "2020-07-31 16:03:20 (3.07 MB/s) - ‘OG2021.txt’ saved [130907/130907]\n",
            "\n"
          ],
          "name": "stdout"
        }
      ]
    },
    {
      "cell_type": "code",
      "metadata": {
        "id": "-9qCYHEZSARI",
        "colab_type": "code",
        "colab": {}
      },
      "source": [
        "# read the file\n",
        "with open('OG2021.txt') as ogf:\n",
        "  og = '\\n'+ogf.read()"
      ],
      "execution_count": 239,
      "outputs": []
    },
    {
      "cell_type": "code",
      "metadata": {
        "id": "Rskk9g4zTGRC",
        "colab_type": "code",
        "colab": {}
      },
      "source": [
        "# split the file into questions by the lines only with number\n",
        "ogquestions = [o for o in re.split(r'\\n\\d+\\n', og) if o]\n",
        "numbers = re.findall(r'\\n\\d+\\n', og)\n",
        "numbers = [n.replace('\\n',' ') for n in numbers]\n",
        "# put the number back to the question for the convience of lookup\n",
        "ogquestions = [numbers[i]+ogquestions[i] for i in range(len(ogquestions))]"
      ],
      "execution_count": 207,
      "outputs": []
    },
    {
      "cell_type": "code",
      "metadata": {
        "id": "2Khwu0U-Tg2v",
        "colab_type": "code",
        "colab": {}
      },
      "source": [
        "# set up a function to find diffs in each option\n",
        "def findDiff(question):\n",
        "  import re\n",
        "  out = [] # empty list to receive the result\n",
        "  body = [sent for sent in question.split('\\n') if len(sent)>10][0] # the body of question\n",
        "  aopt = ''.join(re.findall(r'\\nA\\.? (.*)', question)) # the underline part (same as A option)\n",
        "  body = re.split(aopt, body)[0] + '[' + aopt+']'+re.split(aopt, body)[-1] # add [] around the underline\n",
        "  options = [q for q in question.split('\\n') if re.findall(r'[ABCDE]\\.? ', q)] # get 5 options\n",
        "\n",
        "  wordlist = set(' '.join(options).split(' ')) # bag of words, all words appeared in options\n",
        "  fqdict = {word:sum([word in opt for opt in options]) for word in wordlist} # how many option has each word\n",
        "  out.append(body) # put question body into out\n",
        "  for i,q in enumerate(options): #loop each option\n",
        "    out.append(' '.join([ f'[{word}]' if word in fqdict and \n",
        "                         fqdict[word]<5 else word for word in q.split(' ') ]))\n",
        "    # if the word not appear in all 5 option, mark them with []\n",
        "  return '\\n'.join(out) # return result as a string"
      ],
      "execution_count": 236,
      "outputs": []
    },
    {
      "cell_type": "code",
      "metadata": {
        "id": "uiunDf9OUNTF",
        "colab_type": "code",
        "colab": {}
      },
      "source": [
        "# loop the question and write into the file\n",
        "with open('ogscDiff.txt','w') as f:\n",
        "  for ogq in ogquestions:\n",
        "    out = findDiff(ogq)\n",
        "    f.write(out+'\\n\\n')"
      ],
      "execution_count": 237,
      "outputs": []
    }
  ]
}